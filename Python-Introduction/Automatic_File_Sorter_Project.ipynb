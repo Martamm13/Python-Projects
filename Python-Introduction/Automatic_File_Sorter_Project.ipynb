{
 "cells": [
  {
   "cell_type": "markdown",
   "id": "3b6bf884-67fe-4d16-a31f-972656cf1ff8",
   "metadata": {},
   "source": [
    "Automatic File Sorter"
   ]
  },
  {
   "cell_type": "code",
   "execution_count": 1,
   "id": "3b982883-5ddb-43af-8bb4-75fbe9f97990",
   "metadata": {},
   "outputs": [],
   "source": [
    "import os, shutil\n",
    "#import os: This brings in the OS module, which lets you work with files and folders on your computer, like creating or deleting them.\n",
    "#import shutil: This brings in the shutil module, which helps you do things with files, like moving or copying them around easily."
   ]
  },
  {
   "cell_type": "code",
   "execution_count": 9,
   "id": "9c894a8f-91d2-44b6-acad-c859e14633c9",
   "metadata": {},
   "outputs": [],
   "source": [
    "path = r'C:\\Users\\Marta\\Python Tutorial\\Automatic_Sorter\\\\'"
   ]
  },
  {
   "cell_type": "code",
   "execution_count": 7,
   "id": "3669d62e-689d-439f-8e23-9d9e0416d9a4",
   "metadata": {},
   "outputs": [
    {
     "data": {
      "text/plain": [
       "['CSVFile.csv',\n",
       " 'FakeFile.csv',\n",
       " 'FakeFile.txt',\n",
       " 'Max.png',\n",
       " 'NewFile.tsv',\n",
       " 'NewFile.txt',\n",
       " 'Rosie.png']"
      ]
     },
     "execution_count": 7,
     "metadata": {},
     "output_type": "execute_result"
    }
   ],
   "source": [
    "os.listdir(path)"
   ]
  },
  {
   "cell_type": "code",
   "execution_count": null,
   "id": "3f2ebeef-6bfc-487b-b444-346705dc9a3c",
   "metadata": {},
   "outputs": [],
   "source": [
    "#os.makedirs(path + new_folder_name)"
   ]
  },
  {
   "cell_type": "code",
   "execution_count": 13,
   "id": "48b9c769-0253-4ba6-8d64-1f1531d1bbf1",
   "metadata": {},
   "outputs": [],
   "source": [
    "folder_names = ['CSV Files', 'Text Files', 'Image Files']\n",
    "\n",
    "for folder in folder_names:\n",
    "    if not os.path.exists(os.path.join(path, folder)):\n",
    "        os.makedirs(os.path.join(path, folder))\n",
    "#This code checks if you’ve got folders for \"CSV Files,\" \"Text Files,\" and \"Image Files\" in the specified path. If not, it creates them"
   ]
  },
  {
   "cell_type": "code",
   "execution_count": 15,
   "id": "3ec636e8-126b-4f9d-8b34-942b87c4ef0f",
   "metadata": {},
   "outputs": [
    {
     "data": {
      "text/plain": [
       "['CSV Files',\n",
       " 'CSVFile.csv',\n",
       " 'FakeFile.csv',\n",
       " 'FakeFile.txt',\n",
       " 'Image Files',\n",
       " 'Max.png',\n",
       " 'NewFile.tsv',\n",
       " 'NewFile.txt',\n",
       " 'Rosie.png',\n",
       " 'Text Files']"
      ]
     },
     "execution_count": 15,
     "metadata": {},
     "output_type": "execute_result"
    }
   ],
   "source": [
    "os.listdir(path)"
   ]
  },
  {
   "cell_type": "code",
   "execution_count": 17,
   "id": "a8f8515a-86d8-4727-9248-93734c59f62c",
   "metadata": {},
   "outputs": [],
   "source": [
    "file_names = os.listdir(path)\n",
    "#This code grabs all the files and folders in the path you set and puts their names into the file_names list."
   ]
  },
  {
   "cell_type": "code",
   "execution_count": 23,
   "id": "08e2fee6-7a54-4b31-b5b3-793ce845ad62",
   "metadata": {},
   "outputs": [],
   "source": [
    "# path = r'C:\\Users\\Marta\\Python Tutorial\\Automatic_Sorter\\\\'\n",
    "for file in file_names:\n",
    "    if \".csv\" in file and not os.path.exists(path + \"CSV Files\\\\\" + file):\n",
    "        shutil.move(path + file, path + \"CSV Files\\\\\" + file)\n",
    "    elif \".png\" in file and not os.path.exists(path + \"Image Files\\\\\" + file):\n",
    "        shutil.move(path + file, path + \"Image Files\\\\\" + file)\n",
    "    elif \".txt\" in file and not os.path.exists(path + \"Text Files\\\\\" + file):\n",
    "        shutil.move(path + file, path + \"Text Files\\\\\" + file)\n",
    "\n"
   ]
  },
  {
   "cell_type": "code",
   "execution_count": 25,
   "id": "f6fcd1c1-33e7-405e-9a16-d9f56458a4a0",
   "metadata": {},
   "outputs": [],
   "source": [
    "path = r'C:\\Users\\Marta\\Python Tutorial\\Automatic_Sorter\\\\'\n",
    "\n",
    "folder_names = ['CSV Files', 'Text Files', 'Image Files']\n",
    "\n",
    "for folder in folder_names:\n",
    "    if not os.path.exists(os.path.join(path, folder)):\n",
    "        os.makedirs(os.path.join(path, folder))\n",
    "\n",
    "file_names = os.listdir(path)\n",
    "\n",
    "for file in file_names:\n",
    "    if \".csv\" in file and not os.path.exists(path + \"CSV Files\\\\\" + file):\n",
    "        shutil.move(path + file, path + \"CSV Files\\\\\" + file)\n",
    "    elif \".png\" in file and not os.path.exists(path + \"Image Files\\\\\" + file):\n",
    "        shutil.move(path + file, path + \"Image Files\\\\\" + file)\n",
    "    elif \".txt\" in file and not os.path.exists(path + \"Text Files\\\\\" + file):\n",
    "        shutil.move(path + file, path + \"Text Files\\\\\" + file)"
   ]
  },
  {
   "cell_type": "code",
   "execution_count": null,
   "id": "7b9251eb-b6ac-4dff-8401-2fd40a1c1e6b",
   "metadata": {},
   "outputs": [],
   "source": []
  }
 ],
 "metadata": {
  "kernelspec": {
   "display_name": "Python 3 (ipykernel)",
   "language": "python",
   "name": "python3"
  },
  "language_info": {
   "codemirror_mode": {
    "name": "ipython",
    "version": 3
   },
   "file_extension": ".py",
   "mimetype": "text/x-python",
   "name": "python",
   "nbconvert_exporter": "python",
   "pygments_lexer": "ipython3",
   "version": "3.12.4"
  }
 },
 "nbformat": 4,
 "nbformat_minor": 5
}
