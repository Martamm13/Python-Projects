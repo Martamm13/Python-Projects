{
 "cells": [
  {
   "cell_type": "markdown",
   "id": "ea8312d1-2280-41dd-884c-b7706f362a6e",
   "metadata": {},
   "source": [
    "Unit of Measurement Converter"
   ]
  },
  {
   "cell_type": "code",
   "execution_count": 1,
   "id": "c31059a1-97d3-4013-8616-7aeb9a1aae10",
   "metadata": {},
   "outputs": [
    {
     "name": "stdin",
     "output_type": "stream",
     "text": [
      "Enter Starting Unit of Measurement(inches, feet, yards):  inches\n",
      "Enter Unit of Measurement to Convert to(inches, feet, yards):  feet\n",
      "Enter Starting Measurement in Inches:  24\n",
      "Enter Starting Measurement in Feet:  3\n",
      "Enter Starting Measurement in Yards:  1\n"
     ]
    }
   ],
   "source": [
    "convert_from = input(\"Enter Starting Unit of Measurement(inches, feet, yards): \")\n",
    "\n",
    "convert_to = input(\"Enter Unit of Measurement to Convert to(inches, feet, yards): \")\n",
    "\n",
    "\n",
    "# Convert the input into floating-point numbers\n",
    "number_of_inches = input(\"Enter Starting Measurement in Inches: \")\n",
    "number_of_feet = input(\"Enter Starting Measurement in Feet: \")\n",
    "number_of_yards = input(\"Enter Starting Measurement in Yards: \")"
   ]
  },
  {
   "cell_type": "code",
   "execution_count": 3,
   "id": "86223a3f-2f51-4275-81e3-f8deb14295a9",
   "metadata": {},
   "outputs": [
    {
     "name": "stdin",
     "output_type": "stream",
     "text": [
      "Enter Starting Unit of Measurement (inches, feet, yards):  inches\n",
      "Enter Unit of Measurement to Convert to (inches, feet, yards):  feet\n",
      "Enter Starting Measurement in Inches:  36\n"
     ]
    },
    {
     "name": "stdout",
     "output_type": "stream",
     "text": [
      "3.0\n"
     ]
    }
   ],
   "source": [
    "convert_from = input(\"Enter Starting Unit of Measurement (inches, feet, yards): \")\n",
    "convert_to = input(\"Enter Unit of Measurement to Convert to (inches, feet, yards): \")\n",
    "\n",
    "if convert_from == \"inches\":  \n",
    "    number_of_inches = int(input(\"Enter Starting Measurement in Inches: \"))\n",
    "    if convert_to == 'feet':\n",
    "        print(number_of_inches / 12)  # Store the result\n",
    "    elif convert_to == 'yards':\n",
    "        print(number_of_inches / 36)  # Store the result\n"
   ]
  },
  {
   "cell_type": "code",
   "execution_count": 7,
   "id": "13a9426f-a3ea-44b9-90ad-39853198c8af",
   "metadata": {},
   "outputs": [
    {
     "name": "stdin",
     "output_type": "stream",
     "text": [
      "Enter Starting Unit of Measurement (inches, feet, yards):  inches\n",
      "Enter Unit of Measurement to Convert to (inches, feet, yards):  yards\n",
      "Enter Starting Measurement in Inches:  36\n"
     ]
    },
    {
     "name": "stdout",
     "output_type": "stream",
     "text": [
      "1.0\n"
     ]
    }
   ],
   "source": [
    "convert_from = input(\"Enter Starting Unit of Measurement (inches, feet, yards): \")\n",
    "convert_to = input(\"Enter Unit of Measurement to Convert to (inches, feet, yards): \")\n",
    "\n",
    "if convert_from == \"inches\":  \n",
    "    number_of_inches = int(input(\"Enter Starting Measurement in Inches: \"))\n",
    "    if convert_to == 'feet':\n",
    "        print(number_of_inches / 12)  # Store the result\n",
    "    elif convert_to == 'yards':\n",
    "        print(number_of_inches / 36)  # Store the result\n",
    "    else:\n",
    "        print(\"Your input was incorrect\")"
   ]
  },
  {
   "cell_type": "code",
   "execution_count": 9,
   "id": "5a5ba156-4c11-47ca-aeea-8a66cda25af0",
   "metadata": {},
   "outputs": [
    {
     "name": "stdin",
     "output_type": "stream",
     "text": [
      "Enter Starting Unit of Measurement (inches, feet, yards):  inches\n",
      "Enter Unit of Measurement to Convert to (inches, feet, yards):  meters\n",
      "Enter Starting Measurement in Inches:  36\n"
     ]
    },
    {
     "name": "stdout",
     "output_type": "stream",
     "text": [
      "Your input was incorrect\n"
     ]
    }
   ],
   "source": [
    "convert_from = input(\"Enter Starting Unit of Measurement (inches, feet, yards): \")\n",
    "convert_to = input(\"Enter Unit of Measurement to Convert to (inches, feet, yards): \")\n",
    "\n",
    "if convert_from == \"inches\":  \n",
    "    number_of_inches = int(input(\"Enter Starting Measurement in Inches: \"))\n",
    "    if convert_to == 'feet':\n",
    "        print(number_of_inches / 12)  # Store the result\n",
    "    elif convert_to == 'yards':\n",
    "        print(number_of_inches / 36)  # Store the result\n",
    "    else:\n",
    "        print(\"Your input was incorrect\")"
   ]
  },
  {
   "cell_type": "code",
   "execution_count": null,
   "id": "065ecb78-e297-4838-952f-db5d00020ea7",
   "metadata": {},
   "outputs": [],
   "source": []
  },
  {
   "cell_type": "code",
   "execution_count": 3,
   "id": "f1912031-7502-4751-bf40-79c8676a58de",
   "metadata": {},
   "outputs": [
    {
     "name": "stdin",
     "output_type": "stream",
     "text": [
      "Enter Starting Unit of Measurement (inches, feet, yards):  INCHES\n",
      "Enter Unit of Measurement to Convert to (inches, feet, yards):  feet\n",
      "Enter Starting Measurement in Inches:  34\n"
     ]
    },
    {
     "name": "stdout",
     "output_type": "stream",
     "text": [
      "2.8333333333333335\n"
     ]
    }
   ],
   "source": [
    "convert_from = input(\"Enter Starting Unit of Measurement (inches, feet, yards): \")\n",
    "convert_to = input(\"Enter Unit of Measurement to Convert to (inches, feet, yards): \")\n",
    "\n",
    "if convert_from.lower() in [\"inches\", \"inch\"]:  \n",
    "    number_of_inches = int(input(\"Enter Starting Measurement in Inches: \")) # integer, which is a whole number (without decimals)\n",
    "    if convert_to == 'feet':\n",
    "        print(number_of_inches / 12)  # Store the result\n",
    "    elif convert_to == 'yards':\n",
    "        print(number_of_inches / 36)  # Store the result\n",
    "    else:\n",
    "        print(\"Your input was incorrect\")\n",
    "elif convert_from.lower() in [\"feet\", \"fe\"]:\n",
    "    number_of_feet = int(input(\"Enter Starting Measurement in Feet: \"))\n",
    "    if convert_to == 'inches':\n",
    "        print(number_of_feet * 12)  # Store the result\n",
    "    elif convert_to == 'yards':\n",
    "        print(number_of_inches / 3)  # Store the result\n",
    "    else:\n",
    "        print(\"Your input was incorrect\")"
   ]
  },
  {
   "cell_type": "code",
   "execution_count": 23,
   "id": "e8262d68-a9f8-450c-a2dd-e7da08c3409c",
   "metadata": {},
   "outputs": [
    {
     "name": "stdin",
     "output_type": "stream",
     "text": [
      "Enter Starting Unit of Measurement (inches, feet, yards):  feet\n",
      "Enter Unit of Measurement to Convert to (inches, feet, yards):  inches\n",
      "Enter Starting Measurement in Feet:  3\n"
     ]
    },
    {
     "name": "stdout",
     "output_type": "stream",
     "text": [
      "Result: 36 Inches\n"
     ]
    }
   ],
   "source": [
    "convert_from = input(\"Enter Starting Unit of Measurement (inches, feet, yards): \")\n",
    "convert_to = input(\"Enter Unit of Measurement to Convert to (inches, feet, yards): \")\n",
    "\n",
    "if convert_from.lower() in [\"inches\", \"inch\"]:\n",
    "    number_of_inches = int(input(\"Enter Starting Measurement in Inches: \"))\n",
    "    if convert_to.lower() in [\"feet\", \"fe\"]:\n",
    "        print(\"Result: \" + str(number_of_inches) + \" Inches = \" + str(round(number_of_inches / 12)) + \" Feet\")\n",
    "    else:\n",
    "        print(\"Your input was incorrect\")\n",
    "elif convert_from.lower() in [\"feet\", \"fe\"]:\n",
    "    number_of_feet = int(input(\"Enter Starting Measurement in Feet: \"))\n",
    "    if convert_to.lower() in [\"inches\", \"inch\"]:\n",
    "        print(\"Result: \" + str(round(number_of_feet * 12)) + \" Inches\")\n",
    "    else:\n",
    "        print(\"Your input was incorrect\")"
   ]
  },
  {
   "cell_type": "code",
   "execution_count": null,
   "id": "c3923428-c544-43f1-8aed-cdc92543770d",
   "metadata": {},
   "outputs": [],
   "source": []
  }
 ],
 "metadata": {
  "kernelspec": {
   "display_name": "Python 3 (ipykernel)",
   "language": "python",
   "name": "python3"
  },
  "language_info": {
   "codemirror_mode": {
    "name": "ipython",
    "version": 3
   },
   "file_extension": ".py",
   "mimetype": "text/x-python",
   "name": "python",
   "nbconvert_exporter": "python",
   "pygments_lexer": "ipython3",
   "version": "3.12.4"
  }
 },
 "nbformat": 4,
 "nbformat_minor": 5
}
