{
 "cells": [
  {
   "cell_type": "markdown",
   "id": "b03e1f77-a4f9-4bce-bbe0-58171bb3bac5",
   "metadata": {},
   "source": [
    "Automated Web Scraper"
   ]
  },
  {
   "cell_type": "code",
   "execution_count": 6,
   "id": "2fbf6440-946f-4d64-a0b2-4343fd426c2b",
   "metadata": {},
   "outputs": [],
   "source": [
    "from bs4 import BeautifulSoup\n",
    "import requests"
   ]
  },
  {
   "cell_type": "code",
   "execution_count": 12,
   "id": "bff0a5fa-c22a-461e-a020-069fe3b51362",
   "metadata": {},
   "outputs": [
    {
     "name": "stdout",
     "output_type": "stream",
     "text": [
      "<!DOCTYPE html>\n",
      "<html dir=\"ltr\" lang=\"en\">\n",
      " <head>\n",
      "  <meta charset=\"utf-8\"/>\n",
      "  <meta content=\"ie=edge\" http-equiv=\"x-ua-compatible\"/>\n",
      "  <meta content=\"width=device-width, initial-scale=1, maximum-scale=1, user-scalable=no, shrink-to-fit=no\" name=\"viewport\"/>\n",
      "  <link href=\"/manifest.json\" rel=\"manifest\"/>\n",
      "  <script type=\"application/ld+json\">\n",
      "   {\"@context\":\"https://schema.org/\",\"@type\":\"Product\",\"name\":\"Bitcoin\",\"aggregateRating\":{\"@type\":\"AggregateRating\",\"ratingValue\":4.9,\"bestRating\":5,\"ratingCount\":2,\"i\n"
     ]
    }
   ],
   "source": [
    "url = 'https://coinmarketcap.com/currencies/bitcoin/'\n",
    "\n",
    "page = requests.get(url)\n",
    "\n",
    "soup = BeautifulSoup(page.text, 'html')\n",
    "\n",
    "print(soup.prettify(formatter=None)[:512])"
   ]
  },
  {
   "cell_type": "code",
   "execution_count": 18,
   "id": "63a798a8-111b-4eee-86ae-9e70fb31cd92",
   "metadata": {},
   "outputs": [
    {
     "data": {
      "text/plain": [
       "<span class=\"sc-65e7f566-0 lsTl\" data-role=\"coin-name\" title=\"Bitcoin\">Bitcoin<span class=\"sc-65e7f566-0 eQBACe coin-name-mobile\"> price</span></span>"
      ]
     },
     "execution_count": 18,
     "metadata": {},
     "output_type": "execute_result"
    }
   ],
   "source": [
    "soup.find('span', class_='sc-65e7f566-0 lsTl')"
   ]
  },
  {
   "cell_type": "code",
   "execution_count": 30,
   "id": "b229f5e8-3697-42f8-b3f5-7aa74841d45b",
   "metadata": {},
   "outputs": [],
   "source": [
    "html = '<span class=\"sc-65e7f566-0 lsTl\">Bitcoin</span>'\n",
    "#is simply creating a string. The string looks like some HTML code, but for now, it's just text stored in the variable html"
   ]
  },
  {
   "cell_type": "code",
   "execution_count": 36,
   "id": "7351566b-280a-4ef6-9c58-6646884c5a85",
   "metadata": {},
   "outputs": [
    {
     "name": "stdout",
     "output_type": "stream",
     "text": [
      "Bitcoinprice\n"
     ]
    }
   ],
   "source": [
    "crypto_name = soup.find('span', class_='sc-65e7f566-0 lsTl').get_text(strip=True)\n",
    "print(crypto_name)"
   ]
  },
  {
   "cell_type": "code",
   "execution_count": 34,
   "id": "0dc7a8f9-f87f-46f3-a400-ebaa2f48da25",
   "metadata": {},
   "outputs": [
    {
     "name": "stdout",
     "output_type": "stream",
     "text": [
      "Bitcoin price\n"
     ]
    }
   ],
   "source": [
    "crypto_name = soup.find('span', class_='sc-65e7f566-0 lsTl').text\n",
    "print(crypto_name)"
   ]
  },
  {
   "cell_type": "code",
   "execution_count": 38,
   "id": "1a4513cc-59e0-4dd6-a945-b5837025cfbd",
   "metadata": {},
   "outputs": [
    {
     "name": "stdout",
     "output_type": "stream",
     "text": [
      "Bitcoin\n"
     ]
    }
   ],
   "source": [
    "original = \"Bitcoinprice\"\n",
    "bitcoin_only = original.replace(\"price\", \"\")\n",
    "print(bitcoin_only)  # Output: Bitcoin"
   ]
  },
  {
   "cell_type": "code",
   "execution_count": 59,
   "id": "a397a106-68b4-4f44-afca-c183ffb8d03b",
   "metadata": {},
   "outputs": [
    {
     "name": "stdout",
     "output_type": "stream",
     "text": [
      "$63,239.97\n"
     ]
    }
   ],
   "source": [
    "price_span = soup.find('span', class_='sc-65e7f566-0 clvjgF base-text')\n",
    "crypto_price = price_span.text if price_span else None\n",
    "print(crypto_price)  # Output: $63,316.34"
   ]
  },
  {
   "cell_type": "code",
   "execution_count": 57,
   "id": "b44faf9b-48be-4986-bd7c-6ce7045e6e0e",
   "metadata": {},
   "outputs": [
    {
     "name": "stdout",
     "output_type": "stream",
     "text": [
      "<span class=\"sc-65e7f566-0 clvjgF base-text\" data-test=\"text-cdp-price-display\">$63,239.97</span>\n"
     ]
    }
   ],
   "source": [
    "price_span = soup.find('span', class_='sc-65e7f566-0 clvjgF base-text')\n",
    "print(price_span)"
   ]
  },
  {
   "cell_type": "code",
   "execution_count": 61,
   "id": "09d7a874-3f5a-42b8-a17a-1315ff24ac88",
   "metadata": {},
   "outputs": [
    {
     "name": "stdout",
     "output_type": "stream",
     "text": [
      "63239.97\n"
     ]
    }
   ],
   "source": [
    "if crypto_price:\n",
    "    crypto_price = float(crypto_price.replace(',', '').replace('$', ''))\n",
    "print(crypto_price)  # Output: 63316.34\n",
    "#check if crypto_price is not empty.\n",
    "#remove commas and $, then convert it to a float.\n",
    "#print the number: Shows the price as 63316.34.\n",
    "#float() converts a string or an integer"
   ]
  },
  {
   "cell_type": "code",
   "execution_count": 69,
   "id": "e24f83b6-3fff-4f90-81de-432933bfe810",
   "metadata": {},
   "outputs": [
    {
     "name": "stdout",
     "output_type": "stream",
     "text": [
      "63239.97\n"
     ]
    }
   ],
   "source": [
    "price_span = soup.find('span', class_='sc-65e7f566-0 clvjgF base-text')\n",
    "crypto_price = price_span.text if price_span else None\n",
    "\n",
    "if crypto_price:\n",
    "    final_price = float(crypto_price.replace(',', '').replace('$', ''))\n",
    "else:\n",
    "    final_price = None\n",
    "\n",
    "print(final_price)  # Output: 63316.34\n"
   ]
  },
  {
   "cell_type": "code",
   "execution_count": null,
   "id": "5c4ebb56-de02-4fa2-b0cf-28fab9439602",
   "metadata": {},
   "outputs": [],
   "source": []
  },
  {
   "cell_type": "code",
   "execution_count": 71,
   "id": "8434b864-ef35-4b81-841e-da10e3f011fc",
   "metadata": {},
   "outputs": [],
   "source": [
    "import pandas as pd"
   ]
  },
  {
   "cell_type": "code",
   "execution_count": 87,
   "id": "1b6494ea-a53b-43d1-ae11-c3be7aec4097",
   "metadata": {},
   "outputs": [
    {
     "name": "stdout",
     "output_type": "stream",
     "text": [
      "2024-09-23 18:57:21.290382\n"
     ]
    }
   ],
   "source": [
    "from datetime import datetime\n",
    "date_time = datetime.now()\n",
    "print(date_time)"
   ]
  },
  {
   "cell_type": "code",
   "execution_count": 91,
   "id": "bc1e351b-4bc8-4850-bd31-2007176b6ab5",
   "metadata": {},
   "outputs": [
    {
     "data": {
      "text/html": [
       "<div>\n",
       "<style scoped>\n",
       "    .dataframe tbody tr th:only-of-type {\n",
       "        vertical-align: middle;\n",
       "    }\n",
       "\n",
       "    .dataframe tbody tr th {\n",
       "        vertical-align: top;\n",
       "    }\n",
       "\n",
       "    .dataframe thead th {\n",
       "        text-align: right;\n",
       "    }\n",
       "</style>\n",
       "<table border=\"1\" class=\"dataframe\">\n",
       "  <thead>\n",
       "    <tr style=\"text-align: right;\">\n",
       "      <th></th>\n",
       "      <th>Crypto Name</th>\n",
       "      <th>Price</th>\n",
       "      <th>TimeStamp</th>\n",
       "    </tr>\n",
       "  </thead>\n",
       "  <tbody>\n",
       "    <tr>\n",
       "      <th>0</th>\n",
       "      <td>Bitcoinprice</td>\n",
       "      <td>63239.97</td>\n",
       "      <td>2024-09-23 18:57:21.290382</td>\n",
       "    </tr>\n",
       "  </tbody>\n",
       "</table>\n",
       "</div>"
      ],
      "text/plain": [
       "    Crypto Name     Price                  TimeStamp\n",
       "0  Bitcoinprice  63239.97 2024-09-23 18:57:21.290382"
      ]
     },
     "execution_count": 91,
     "metadata": {},
     "output_type": "execute_result"
    }
   ],
   "source": [
    "dict = {'Crypto Name': crypto_name,\n",
    "        'Price':final_price,\n",
    "        'TimeStamp':date_time }\n",
    "\n",
    "df = pd.DataFrame([dict])\n",
    "df"
   ]
  },
  {
   "cell_type": "code",
   "execution_count": 101,
   "id": "4b26b66b-52dd-4c6a-a287-a198b80d67b8",
   "metadata": {},
   "outputs": [],
   "source": [
    "df.to_csv(r'C:\\Users\\Marta\\Python Tutorial\\Crypto Web Puller\\Crypto_Automated_Pull.csv', index=False)"
   ]
  },
  {
   "cell_type": "code",
   "execution_count": 111,
   "id": "8e56b6f5-e6ce-4ffd-ab16-1bcde1cd5bb6",
   "metadata": {},
   "outputs": [],
   "source": [
    "import os\n",
    "if os.path.exists(r'C:\\Users\\Marta\\Python Tutorial\\Crypto Web Puller\\Crypto_Automated_Pull.csv'):\n",
    "    df.to_csv(r'C:\\Users\\Marta\\Python Tutorial\\Crypto Web Puller\\Crypto_Automated_Pull.csv', mode='a', header = False)\n",
    "#The code checks if a CSV file exists. If it does, it adds new data from df to the end of the file, keeping all the old data\n",
    "else:\n",
    "     df.to_csv(r'C:\\Users\\Marta\\Python Tutorial\\Crypto Web Puller\\Crypto_Automated_Pull.csv')"
   ]
  },
  {
   "cell_type": "markdown",
   "id": "181a12fb-67e1-4079-8bd9-c4473d9d6834",
   "metadata": {},
   "source": [
    "Putting all together"
   ]
  },
  {
   "cell_type": "code",
   "execution_count": null,
   "id": "b509ab68-ec36-4f65-af30-944a0587612e",
   "metadata": {},
   "outputs": [],
   "source": [
    "import time\n",
    "automated_crypto_pull()\n",
    "time.sleep(10)"
   ]
  },
  {
   "cell_type": "code",
   "execution_count": 12,
   "id": "f7af4a97-a794-4b95-a08d-95a70842b61f",
   "metadata": {},
   "outputs": [
    {
     "name": "stdout",
     "output_type": "stream",
     "text": [
      "Status Code: 200\n",
      "Crypto Name: Bitcoin price\n",
      "Raw Price: $63,533.99\n",
      "Data to be saved: {'Crypto Name': 'Bitcoin price', 'Price': 63533.99, 'TimeStamp': '2024-09-23 19:51:42'}\n"
     ]
    }
   ],
   "source": [
    "import requests  # To send HTTP requests to get webpage data\n",
    "import pandas as pd  # For handling data in tables (DataFrames)\n",
    "from bs4 import BeautifulSoup  # To parse HTML and extract data\n",
    "from datetime import datetime  # To work with dates and times\n",
    "import os  # To interact with the operating system (like file paths)\n",
    "import time  # To add delays in the code (like sleep)\n",
    "\n",
    "def automated_crypto_pull():\n",
    "    url = 'https://coinmarketcap.com/currencies/bitcoin/'\n",
    "\n",
    "    try:\n",
    "        # Get the webpage\n",
    "        page = requests.get(url)\n",
    "        print(f\"Status Code: {page.status_code}\")  # Show if we got the page\n",
    "\n",
    "        if page.status_code != 200:\n",
    "            print(\"Failed to retrieve data.\")\n",
    "            return  # Stop if there's an error\n",
    "\n",
    "        # Parse the HTML\n",
    "        soup = BeautifulSoup(page.text, 'html.parser')\n",
    "\n",
    "        # Find the crypto name\n",
    "        crypto_name = soup.find('span', class_='sc-65e7f566-0 lsTl')\n",
    "        if crypto_name:\n",
    "            crypto_name = crypto_name.text.strip()  # Clean up the text\n",
    "            print(f\"Crypto Name: {crypto_name}\")\n",
    "        else:\n",
    "            print(\"Crypto name not found.\")\n",
    "            return\n",
    "\n",
    "        # Find the price\n",
    "        price_span = soup.find('span', class_='sc-65e7f566-0 clvjgF base-text')\n",
    "        if price_span:\n",
    "            crypto_price = price_span.text.strip()  # Get the price\n",
    "            print(f\"Raw Price: {crypto_price}\")\n",
    "            final_price = float(crypto_price.replace(',', '').replace('$', ''))  # Clean and convert to float\n",
    "        else:\n",
    "            print(\"Price not found.\")\n",
    "            return\n",
    "\n",
    "        # Get the current time\n",
    "        date_time = datetime.now().strftime('%Y-%m-%d %H:%M:%S')\n",
    "\n",
    "        # Create a dictionary for the data\n",
    "        data_dict = {\n",
    "            'Crypto Name': crypto_name,\n",
    "            'Price': final_price,\n",
    "            'TimeStamp': date_time\n",
    "        }\n",
    "        print(f\"Data to be saved: {data_dict}\")\n",
    "\n",
    "        # Create a DataFrame\n",
    "        df = pd.DataFrame([data_dict])\n",
    "\n",
    "        # Save to CSV\n",
    "        file_path = r'C:\\Users\\Marta\\Python Tutorial\\Crypto Web Puller\\Crypto_Automated_Pull.csv'\n",
    "        if os.path.exists(file_path):\n",
    "            df.to_csv(file_path, mode='a', header=False, index=False)  # Append if exists\n",
    "        else:\n",
    "            df.to_csv(file_path, index=False)  # Create new file\n",
    "\n",
    "    except Exception as e:\n",
    "        print(f\"An error occurred: {e}\")\n",
    "\n",
    "# Run the function and wait a moment\n",
    "automated_crypto_pull()\n",
    "time.sleep(2)  # Wait for 2 seconds"
   ]
  },
  {
   "cell_type": "code",
   "execution_count": null,
   "id": "8ef428af-5e9d-45b8-97a4-4f5d0d0aeb81",
   "metadata": {},
   "outputs": [],
   "source": []
  }
 ],
 "metadata": {
  "kernelspec": {
   "display_name": "Python 3 (ipykernel)",
   "language": "python",
   "name": "python3"
  },
  "language_info": {
   "codemirror_mode": {
    "name": "ipython",
    "version": 3
   },
   "file_extension": ".py",
   "mimetype": "text/x-python",
   "name": "python",
   "nbconvert_exporter": "python",
   "pygments_lexer": "ipython3",
   "version": "3.12.4"
  }
 },
 "nbformat": 4,
 "nbformat_minor": 5
}
