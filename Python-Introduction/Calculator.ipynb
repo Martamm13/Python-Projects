{
 "cells": [
  {
   "cell_type": "markdown",
   "id": "c17b8f69-8b5c-452b-8db2-a3993deea06b",
   "metadata": {},
   "source": [
    "Calculator"
   ]
  },
  {
   "cell_type": "code",
   "execution_count": 3,
   "id": "adc257ee-1f26-4893-9202-37f6c2e23791",
   "metadata": {},
   "outputs": [],
   "source": [
    "def add(x,y):\n",
    "    return x + Y\n",
    "\n",
    "def substruct(x,y):\n",
    "    return x - Y\n",
    "\n",
    "def multiply(x,y):\n",
    "    return x * Y\n",
    "\n",
    "def divide(x,y):\n",
    "    return x / Y"
   ]
  },
  {
   "cell_type": "code",
   "execution_count": 3,
   "id": "8ba5b689-2666-4de5-a530-4546428b86c2",
   "metadata": {},
   "outputs": [
    {
     "name": "stdin",
     "output_type": "stream",
     "text": [
      "Enter Choice (A for Add, S for Subtract, M for Multiply, D for Divide):  A\n",
      "Enter first number:  2\n",
      "Enter second number:  4\n"
     ]
    }
   ],
   "source": [
    "choice = input('Enter Choice (A for Add, S for Subtract, M for Multiply, D for Divide): ')\n",
    "\n",
    "num1 = float(input('Enter first number: ')) #float() is used to convert strings or other data types into floating-point (decimal) numbers \n",
    "num2 = float(input('Enter second number: '))"
   ]
  },
  {
   "cell_type": "code",
   "execution_count": 9,
   "id": "ed0d61e0-c9ee-4e89-a86f-de848f5a2ee5",
   "metadata": {},
   "outputs": [
    {
     "name": "stdin",
     "output_type": "stream",
     "text": [
      "Enter Choice (A for Add, S for Subtract, M for Multiply, D for Divide):  S\n",
      "Enter first number:  2\n",
      "Enter second number:  3\n"
     ]
    },
    {
     "name": "stdout",
     "output_type": "stream",
     "text": [
      "Result: -1.0\n"
     ]
    }
   ],
   "source": [
    "choice = input('Enter Choice (A for Add, S for Subtract, M for Multiply, D for Divide): ').upper()\n",
    "\n",
    "if choice in ('A', 'S', 'M', 'D'):\n",
    "    num1 = float(input('Enter first number: '))\n",
    "    num2 = float(input('Enter second number: '))\n",
    "\n",
    "    if choice == 'A':\n",
    "        print(f\"Result: {num1 + num2}\")\n",
    "    elif choice == 'S':\n",
    "        print(f\"Result: {num1 - num2}\")\n",
    "    elif choice == 'M':\n",
    "        print(f\"Result: {num1 * num2}\")\n",
    "    elif choice == 'D':\n",
    "        if num2 != 0:\n",
    "            print(f\"Result: {num1 / num2}\")\n",
    "        else:\n",
    "            print(\"Error: Division by zero!\")\n",
    "else:\n",
    "    print(\"Invalid choice!\")\n",
    "\n",
    "\n",
    "\n"
   ]
  },
  {
   "cell_type": "code",
   "execution_count": 1,
   "id": "332fd692-d859-4e16-9c09-89453dd16081",
   "metadata": {},
   "outputs": [
    {
     "name": "stdout",
     "output_type": "stream",
     "text": [
      "Enter 'A' for Add.\n",
      "Enter 'S' for Subtract.\n",
      "Enter 'M' for Multiply.\n",
      "Enter 'D' for Divide.\n"
     ]
    },
    {
     "name": "stdin",
     "output_type": "stream",
     "text": [
      "Enter Choice (A for Add, S for Subtract, M for Multiply, D for Divide):  A\n",
      "Enter first number:  3\n",
      "Enter second number:  5\n"
     ]
    },
    {
     "name": "stdout",
     "output_type": "stream",
     "text": [
      "Result: 8.0\n"
     ]
    }
   ],
   "source": [
    "print(\"Enter 'A' for Add.\")\n",
    "print(\"Enter 'S' for Subtract.\")\n",
    "print(\"Enter 'M' for Multiply.\")\n",
    "print(\"Enter 'D' for Divide.\")\n",
    "\n",
    "choice = input('Enter Choice (A for Add, S for Subtract, M for Multiply, D for Divide): ').upper()\n",
    "\n",
    "if choice in ('A', 'S', 'M', 'D'):\n",
    "    num1 = float(input('Enter first number: '))\n",
    "    num2 = float(input('Enter second number: '))\n",
    "\n",
    "    if choice == 'A':\n",
    "        print(f\"Result: {num1 + num2}\")\n",
    "    elif choice == 'S':\n",
    "        print(f\"Result: {num1 - num2}\")\n",
    "    elif choice == 'M':\n",
    "        print(f\"Result: {num1 * num2}\")\n",
    "    elif choice == 'D':\n",
    "        if num2 != 0:\n",
    "            print(f\"Result: {num1 / num2}\")\n",
    "        else:\n",
    "            print(\"Error: Division by zero!\")\n",
    "else:\n",
    "    print(\"Invalid choice!\")"
   ]
  },
  {
   "cell_type": "code",
   "execution_count": 5,
   "id": "be2b7294-2d6d-41e3-980c-8ef918626f17",
   "metadata": {},
   "outputs": [
    {
     "name": "stdout",
     "output_type": "stream",
     "text": [
      "Enter 'A' for Add.\n",
      "Enter 'S' for Subtract.\n",
      "Enter 'M' for Multiply.\n",
      "Enter 'D' for Divide.\n",
      "Enter 'Q' to Quit.\n"
     ]
    },
    {
     "name": "stdin",
     "output_type": "stream",
     "text": [
      "Enter Choice (A for Add, S for Subtract, M for Multiply, D for Divide, Q to Quit):  A\n",
      "Enter first number:  2\n",
      "Enter second number:  2\n"
     ]
    },
    {
     "name": "stdout",
     "output_type": "stream",
     "text": [
      "Result: 4.0\n"
     ]
    },
    {
     "name": "stdin",
     "output_type": "stream",
     "text": [
      "Enter Choice (A for Add, S for Subtract, M for Multiply, D for Divide, Q to Quit):  D\n",
      "Enter first number:  4\n",
      "Enter second number:  2\n"
     ]
    },
    {
     "name": "stdout",
     "output_type": "stream",
     "text": [
      "Result: 2.0\n"
     ]
    },
    {
     "name": "stdin",
     "output_type": "stream",
     "text": [
      "Enter Choice (A for Add, S for Subtract, M for Multiply, D for Divide, Q to Quit):  Q\n"
     ]
    },
    {
     "name": "stdout",
     "output_type": "stream",
     "text": [
      "Exiting the calculator. Goodbye!\n"
     ]
    }
   ],
   "source": [
    "print(\"Enter 'A' for Add.\")\n",
    "print(\"Enter 'S' for Subtract.\")\n",
    "print(\"Enter 'M' for Multiply.\")\n",
    "print(\"Enter 'D' for Divide.\")\n",
    "print(\"Enter 'Q' to Quit.\")\n",
    "\n",
    "#while True loop makes sure the program continues until the user wants to quit by entering Q\n",
    "while True:\n",
    "    choice = input('Enter Choice (A for Add, S for Subtract, M for Multiply, D for Divide, Q to Quit): ').upper()\n",
    "\n",
    "    if choice == 'Q':\n",
    "        print(\"Exiting the calculator. Goodbye!\")\n",
    "        break\n",
    "\n",
    "    if choice in ('A', 'S', 'M', 'D'):\n",
    "        num1 = float(input('Enter first number: '))\n",
    "        num2 = float(input('Enter second number: '))\n",
    "\n",
    "        if choice == 'A':\n",
    "            print(f\"Result: {num1 + num2}\")\n",
    "        elif choice == 'S':\n",
    "            print(f\"Result: {num1 - num2}\")\n",
    "        elif choice == 'M':\n",
    "            print(f\"Result: {num1 * num2}\")\n",
    "        elif choice == 'D':\n",
    "            if num2 != 0:\n",
    "                print(f\"Result: {num1 / num2}\")\n",
    "            else:\n",
    "                print(\"Error: Division by zero!\")\n",
    "    else:\n",
    "        print(\"Invalid choice!\")"
   ]
  },
  {
   "cell_type": "code",
   "execution_count": 1,
   "id": "dac11acf-311e-499e-a808-644479f71932",
   "metadata": {},
   "outputs": [
    {
     "name": "stdout",
     "output_type": "stream",
     "text": [
      "Enter 'A' for Add.\n",
      "Enter 'S' for Subtract.\n",
      "Enter 'M' for Multiply.\n",
      "Enter 'D' for Divide.\n",
      "Enter 'Q' to Quit.\n"
     ]
    },
    {
     "name": "stdin",
     "output_type": "stream",
     "text": [
      "Enter Choice (A for Add, S for Subtract, M for Multiply, D for Divide, Q to Quit):  A\n",
      "Enter first number:  3\n",
      "Enter second number:  4\n"
     ]
    },
    {
     "name": "stdout",
     "output_type": "stream",
     "text": [
      "Result: 7.0\n"
     ]
    },
    {
     "name": "stdin",
     "output_type": "stream",
     "text": [
      "Do you want to perform another calculation? (Yes or No):  Yes\n",
      "Enter Choice (A for Add, S for Subtract, M for Multiply, D for Divide, Q to Quit):  D\n",
      "Enter first number:  4\n",
      "Enter second number:  2\n"
     ]
    },
    {
     "name": "stdout",
     "output_type": "stream",
     "text": [
      "Result: 2.0\n"
     ]
    },
    {
     "name": "stdin",
     "output_type": "stream",
     "text": [
      "Do you want to perform another calculation? (Yes or No):  No\n"
     ]
    },
    {
     "name": "stdout",
     "output_type": "stream",
     "text": [
      "Goodbye!\n"
     ]
    }
   ],
   "source": [
    "print(\"Enter 'A' for Add.\")\n",
    "print(\"Enter 'S' for Subtract.\")\n",
    "print(\"Enter 'M' for Multiply.\")\n",
    "print(\"Enter 'D' for Divide.\")\n",
    "print(\"Enter 'Q' to Quit.\")\n",
    "\n",
    "while True:\n",
    "    choice = input('Enter Choice (A for Add, S for Subtract, M for Multiply, D for Divide, Q to Quit): ').upper()\n",
    "\n",
    "    if choice == 'Q':\n",
    "        print(\"Exiting the calculator. Goodbye!\")\n",
    "        break\n",
    "\n",
    "    if choice in ('A', 'S', 'M', 'D'):\n",
    "        num1 = float(input('Enter first number: '))\n",
    "        num2 = float(input('Enter second number: '))\n",
    "\n",
    "        if choice == 'A':\n",
    "            print(f\"Result: {num1 + num2}\")\n",
    "        elif choice == 'S':\n",
    "            print(f\"Result: {num1 - num2}\")\n",
    "        elif choice == 'M':\n",
    "            print(f\"Result: {num1 * num2}\")\n",
    "        elif choice == 'D':\n",
    "            if num2 != 0:\n",
    "                print(f\"Result: {num1 / num2}\")\n",
    "            else:\n",
    "                print(\"Error: Division by zero!\")\n",
    "    else:\n",
    "        print(\"Invalid choice!\")\n",
    "\n",
    "    # Ask the user if they want to perform another calculation\n",
    "    again = input(\"Do you want to perform another calculation? (Yes or No): \").lower()\n",
    "    \n",
    "    if again != 'yes':\n",
    "        print(\"Goodbye!\")\n",
    "        break"
   ]
  },
  {
   "cell_type": "code",
   "execution_count": null,
   "id": "e2b48feb-2a20-4ac9-b3d2-ac1f1a398ae9",
   "metadata": {},
   "outputs": [],
   "source": []
  }
 ],
 "metadata": {
  "kernelspec": {
   "display_name": "Python 3 (ipykernel)",
   "language": "python",
   "name": "python3"
  },
  "language_info": {
   "codemirror_mode": {
    "name": "ipython",
    "version": 3
   },
   "file_extension": ".py",
   "mimetype": "text/x-python",
   "name": "python",
   "nbconvert_exporter": "python",
   "pygments_lexer": "ipython3",
   "version": "3.12.4"
  }
 },
 "nbformat": 4,
 "nbformat_minor": 5
}
